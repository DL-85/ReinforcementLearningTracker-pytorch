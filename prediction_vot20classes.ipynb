{
 "cells": [
  {
   "cell_type": "code",
   "execution_count": 1,
   "metadata": {
    "collapsed": true
   },
   "outputs": [],
   "source": [
    "import os\n",
    "import cv2\n",
    "import torch\n",
    "import numpy as np\n",
    "import torch.nn as nn\n",
    "import matplotlib.pyplot as plt\n",
    "import torchvision.transforms as transforms\n",
    "from torch.autograd import Variable\n",
    "from torchvision.models import vgg16\n",
    "from scipy.misc import imread, imresize"
   ]
  },
  {
   "cell_type": "markdown",
   "metadata": {},
   "source": [
    "### gpu usage"
   ]
  },
  {
   "cell_type": "code",
   "execution_count": 2,
   "metadata": {
    "collapsed": true
   },
   "outputs": [],
   "source": [
    "os.environ[\"CUDA_VISIBLE_DEVICES\"] = \"3\"\n",
    "use_gpu = torch.cuda.is_available()"
   ]
  },
  {
   "cell_type": "code",
   "execution_count": 3,
   "metadata": {
    "collapsed": true
   },
   "outputs": [],
   "source": [
    "class_file = 'routine_generate_vot2017_train/vot2017/list_20classes.txt'"
   ]
  },
  {
   "cell_type": "code",
   "execution_count": 4,
   "metadata": {
    "collapsed": true
   },
   "outputs": [],
   "source": [
    "CLASSES = [line.rstrip('\\n') for line in open(class_file)]"
   ]
  },
  {
   "cell_type": "code",
   "execution_count": 5,
   "metadata": {},
   "outputs": [
    {
     "data": {
      "text/plain": [
       "20"
      ]
     },
     "execution_count": 5,
     "metadata": {},
     "output_type": "execute_result"
    }
   ],
   "source": [
    "len(CLASSES)"
   ]
  },
  {
   "cell_type": "markdown",
   "metadata": {},
   "source": [
    "### set hyperparameters"
   ]
  },
  {
   "cell_type": "code",
   "execution_count": 6,
   "metadata": {
    "collapsed": true
   },
   "outputs": [],
   "source": [
    "img_size = 224\n",
    "S = 14\n",
    "B = 2\n",
    "C = len(CLASSES)\n",
    "threshold = 0.5\n",
    "n_fatures = 1000"
   ]
  },
  {
   "cell_type": "markdown",
   "metadata": {},
   "source": [
    "### load model with trained parameters"
   ]
  },
  {
   "cell_type": "code",
   "execution_count": 7,
   "metadata": {
    "collapsed": true
   },
   "outputs": [],
   "source": [
    "model = vgg16(pretrained=False)\n",
    "model.classifier = nn.Sequential(\n",
    "        nn.Linear(512 * 7 * 7, n_fatures),\n",
    "        nn.LeakyReLU(0.1, inplace=True),\n",
    "        nn.Dropout(),\n",
    "        nn.Linear(n_fatures, (B*5+C) * S * S),\n",
    "        nn.Sigmoid(),\n",
    "    )\n",
    "model.load_state_dict(torch.load('./results/model_200iters_S14_1000feas_vot20classes_fixlossbug.pth'))\n",
    "model.eval()\n",
    "if use_gpu:\n",
    "    model.cuda()"
   ]
  },
  {
   "cell_type": "markdown",
   "metadata": {},
   "source": [
    "### decode the prediction tensor"
   ]
  },
  {
   "cell_type": "code",
   "execution_count": 8,
   "metadata": {
    "collapsed": true
   },
   "outputs": [],
   "source": [
    "def decoder(pred, S, B, C, threshold):\n",
    "    \"\"\"\n",
    "\n",
    "    :param pred: (tensor) 1x7x7x30\n",
    "    :return: (tensor) box[[x,y,w,h]] label[...]\n",
    "    \"\"\"\n",
    "    n_elements = B * 5 + C\n",
    "    pred = pred.data\n",
    "    pred = pred.squeeze(0)  # 7x7x11\n",
    "    pred = pred.view(S, S, -1) # (7,7,11)\n",
    "    cell_size = 1. / S\n",
    "    boxes = []\n",
    "\n",
    "    contain_list = []\n",
    "    for i in range(B):\n",
    "        contain_list.append(pred[:,:,5*i+4].unsqueeze(2)) # (7,7,1)\n",
    "    for index, contain_part in enumerate(contain_list):\n",
    "        if index == 0:\n",
    "            contain = contain_part\n",
    "        else:\n",
    "            contain = torch.cat((contain, contain_part), dim=2) # (7,7,2)\n",
    "\n",
    "    max_conf, max_indices = contain.max(dim=2) # figure out the max confidence in all bboxes (7,7)\n",
    "    mask = max_conf>=threshold # indices of grids that choose it which >= threshold (7,7)\n",
    "    #print(max_conf[mask]) # indices of grids which has maximum prediction confidence\n",
    "    maxbbox_index = max_indices[mask] # indices of bbox which has maximum prediction confidence\n",
    "    max_tensor_indices = mask.unsqueeze(-1).repeat(1, 1, n_elements) # choose tensor which >= threshold\n",
    "    #print(mask.unsqueeze(-1).size())\n",
    "    #print(n_elements)\n",
    "    #print(pred.size())\n",
    "    #print(max_tensor_indices.size())\n",
    "    #print(pred[max_tensor_indices].size())\n",
    "    max_tensor = pred[max_tensor_indices].view(-1, n_elements)\n",
    "    max_tensor = max_tensor.numpy()\n",
    "\n",
    "    # choose bounding box of max_tensor which is in bbox_index\n",
    "    for i in range(len(max_tensor)):\n",
    "        box = max_tensor[i, maxbbox_index[i]*5:maxbbox_index[i]*5+4]\n",
    "        boxes.append(box)\n",
    "    boxes = np.array(boxes) # predicted bounding boxes\n",
    "    probs = max_conf[mask].numpy() # probabilities of predicted objects\n",
    "    #print(contain.size())\n",
    "    #print(contain)\n",
    "    #a = max_tensor[:,B*5:]#.argmax(axis=1)\n",
    "\n",
    "    labels = max_tensor[:,B*5:].argmax(axis=1) # indices of predicted objects\n",
    "    print(labels)\n",
    "    #print(max_conf)\n",
    "    return labels, probs, boxes"
   ]
  },
  {
   "cell_type": "markdown",
   "metadata": {},
   "source": [
    "### make prediction function"
   ]
  },
  {
   "cell_type": "code",
   "execution_count": 9,
   "metadata": {
    "collapsed": true
   },
   "outputs": [],
   "source": [
    "def make_predict(model, image_name, S, B, C, threshold, root_path, use_gpu):\n",
    "    result = []\n",
    "    image = imread(root_path + image_name)\n",
    "    h, w, _ = image.shape\n",
    "    img = imresize(image, (224, 224))\n",
    "    #plt.imshow(img)\n",
    "    #plt.show()\n",
    "    transform = transforms.Compose([transforms.ToTensor(), ])\n",
    "    img = transform(img)\n",
    "    img = Variable(img[None, :, :, :], volatile=True)\n",
    "    if use_gpu:\n",
    "        img = img.cuda()\n",
    "    pred = model(img)  # 1x7x7x30\n",
    "    pred = pred.cpu()\n",
    "    labels, probs, boxes = decoder(pred, S, B, C, threshold)\n",
    "    for index, item in enumerate(labels):\n",
    "        print(CLASSES[item])\n",
    "        print(probs[index])\n",
    "        print('')\n",
    "\n",
    "    top_left = boxes[:,:2] - 0.5 * boxes[:,2:]**2\n",
    "    bottom_right = boxes[:,:2] + 0.5 * boxes[:,2:]**2\n",
    "    for i in range(len(boxes)):\n",
    "        x1 = int(top_left[i,0] * w)\n",
    "        x2 = int(bottom_right[i,0] * w)\n",
    "        y1 = int(top_left[i,1] * h)\n",
    "        y2 = int(bottom_right[i,1] * h)\n",
    "        result.append([(x1,y1), (x2,y2), CLASSES[labels[i]], image_name, probs[i]])\n",
    "    return result"
   ]
  },
  {
   "cell_type": "markdown",
   "metadata": {},
   "source": [
    "### dataset and file folder"
   ]
  },
  {
   "cell_type": "code",
   "execution_count": 10,
   "metadata": {
    "collapsed": true
   },
   "outputs": [],
   "source": [
    "root_path = './routine_generate_vot2017_train/vot2017/' + CLASSES[0] + '/'\n",
    "image_name = '00000080.jpg'"
   ]
  },
  {
   "cell_type": "code",
   "execution_count": 11,
   "metadata": {},
   "outputs": [
    {
     "data": {
      "text/plain": [
       "'./routine_generate_vot2017_train/vot2017/ants1/'"
      ]
     },
     "execution_count": 11,
     "metadata": {},
     "output_type": "execute_result"
    }
   ],
   "source": [
    "root_path"
   ]
  },
  {
   "cell_type": "code",
   "execution_count": 12,
   "metadata": {},
   "outputs": [
    {
     "name": "stdout",
     "output_type": "stream",
     "text": [
      "[0]\n",
      "ants1\n",
      "0.969752\n",
      "\n"
     ]
    }
   ],
   "source": [
    "result = make_predict(model, image_name, S=S, B=B, C=C, threshold=threshold, root_path=root_path, use_gpu=use_gpu)"
   ]
  },
  {
   "cell_type": "markdown",
   "metadata": {},
   "source": [
    "### plot the prediction on image"
   ]
  },
  {
   "cell_type": "code",
   "execution_count": 13,
   "metadata": {
    "collapsed": true
   },
   "outputs": [],
   "source": [
    "image = cv2.imread(os.path.join(root_path, image_name))\n",
    "image = cv2.cvtColor(image,cv2.COLOR_BGR2RGB)"
   ]
  },
  {
   "cell_type": "code",
   "execution_count": 14,
   "metadata": {},
   "outputs": [
    {
     "name": "stdout",
     "output_type": "stream",
     "text": [
      "0.969752\n"
     ]
    }
   ],
   "source": [
    "for left_up,right_bottom,class_name,_,prob in result:\n",
    "    cv2.rectangle(image,left_up,right_bottom,(0,255,0),2)\n",
    "    cv2.putText(image,class_name,left_up,cv2.FONT_HERSHEY_SIMPLEX,1,(0,0,255),1,cv2.LINE_AA)\n",
    "    print(prob)"
   ]
  },
  {
   "cell_type": "code",
   "execution_count": 15,
   "metadata": {},
   "outputs": [
    {
     "data": {
      "text/plain": [
       "[[(550, 736), (596, 800), 'ants1', '00000080.jpg', 0.96975213]]"
      ]
     },
     "execution_count": 15,
     "metadata": {},
     "output_type": "execute_result"
    }
   ],
   "source": [
    "result"
   ]
  },
  {
   "cell_type": "markdown",
   "metadata": {},
   "source": [
    "### save prediction image"
   ]
  },
  {
   "cell_type": "code",
   "execution_count": 16,
   "metadata": {},
   "outputs": [
    {
     "data": {
      "text/plain": [
       "True"
      ]
     },
     "execution_count": 16,
     "metadata": {},
     "output_type": "execute_result"
    }
   ],
   "source": [
    "cv2.imwrite('result_vot_ant1.jpg',image)"
   ]
  },
  {
   "cell_type": "code",
   "execution_count": null,
   "metadata": {
    "collapsed": true
   },
   "outputs": [],
   "source": []
  },
  {
   "cell_type": "code",
   "execution_count": null,
   "metadata": {
    "collapsed": true
   },
   "outputs": [],
   "source": []
  }
 ],
 "metadata": {
  "kernelspec": {
   "display_name": "Python 3",
   "language": "python",
   "name": "python3"
  },
  "language_info": {
   "codemirror_mode": {
    "name": "ipython",
    "version": 3
   },
   "file_extension": ".py",
   "mimetype": "text/x-python",
   "name": "python",
   "nbconvert_exporter": "python",
   "pygments_lexer": "ipython3",
   "version": "3.6.3"
  }
 },
 "nbformat": 4,
 "nbformat_minor": 2
}
