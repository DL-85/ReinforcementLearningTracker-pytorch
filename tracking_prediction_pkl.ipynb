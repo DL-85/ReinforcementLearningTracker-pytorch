{
 "cells": [
  {
   "cell_type": "code",
   "execution_count": 1,
   "metadata": {
    "collapsed": true
   },
   "outputs": [],
   "source": [
    "import torch\n",
    "from torch.autograd import Variable\n",
    "from RNN import *\n",
    "import numpy as np\n",
    "import deepdish as dd\n",
    "import matplotlib.pyplot as plt\n",
    "import os\n",
    "import cv2"
   ]
  },
  {
   "cell_type": "markdown",
   "metadata": {},
   "source": [
    "### use gpu"
   ]
  },
  {
   "cell_type": "code",
   "execution_count": 2,
   "metadata": {
    "collapsed": true
   },
   "outputs": [],
   "source": [
    "os.environ[\"CUDA_VISIBLE_DEVICES\"] = \"3\"\n",
    "use_gpu = torch.cuda.is_available()"
   ]
  },
  {
   "cell_type": "markdown",
   "metadata": {},
   "source": [
    "### load data"
   ]
  },
  {
   "cell_type": "code",
   "execution_count": 3,
   "metadata": {
    "collapsed": true
   },
   "outputs": [],
   "source": [
    "combo_all = dd.io.load('20classes_combo_padzero_1000features.h5') # utilize pad ground truth"
   ]
  },
  {
   "cell_type": "code",
   "execution_count": 4,
   "metadata": {
    "collapsed": true
   },
   "outputs": [],
   "source": [
    "gt_all = dd.io.load('20classes_normal_bboxes_all_sqrtwh_list.h5')"
   ]
  },
  {
   "cell_type": "code",
   "execution_count": 5,
   "metadata": {
    "collapsed": true
   },
   "outputs": [],
   "source": [
    "feature = Variable(combo_all[0][0])"
   ]
  },
  {
   "cell_type": "code",
   "execution_count": 6,
   "metadata": {
    "collapsed": true
   },
   "outputs": [],
   "source": [
    "class_file = '../routine_generate_vot2017_train/vot2017/list_20classes.txt'"
   ]
  },
  {
   "cell_type": "code",
   "execution_count": 7,
   "metadata": {
    "collapsed": true
   },
   "outputs": [],
   "source": [
    "CLASSES = [line.rstrip('\\n') for line in open(class_file)]"
   ]
  },
  {
   "cell_type": "markdown",
   "metadata": {},
   "source": [
    "### set hyperparameters"
   ]
  },
  {
   "cell_type": "code",
   "execution_count": 8,
   "metadata": {
    "collapsed": true
   },
   "outputs": [],
   "source": [
    "#n_data = 50                   # 20 data needs two process\n",
    "n_features = feature.size(0)              # YOLO output plus padding ground truth location or zeros\n",
    "hidden_size = input_size = 500\n",
    "n_batch = 1                   # number of batch\n",
    "n_layers = 1      \n",
    "time_steps = 10\n",
    "n_classes = 2"
   ]
  },
  {
   "cell_type": "code",
   "execution_count": 9,
   "metadata": {},
   "outputs": [
    {
     "data": {
      "text/plain": [
       "1004"
      ]
     },
     "execution_count": 9,
     "metadata": {},
     "output_type": "execute_result"
    }
   ],
   "source": [
    "n_features"
   ]
  },
  {
   "cell_type": "markdown",
   "metadata": {},
   "source": [
    "### load model"
   ]
  },
  {
   "cell_type": "code",
   "execution_count": 10,
   "metadata": {},
   "outputs": [
    {
     "name": "stdout",
     "output_type": "stream",
     "text": [
      "-----initializing RNN-----\n"
     ]
    },
    {
     "ename": "FileNotFoundError",
     "evalue": "[Errno 2] No such file or directory: './saved_models/DRLT_2classes_1000features.pth'",
     "output_type": "error",
     "traceback": [
      "\u001b[0;31m---------------------------------------------------------------------------\u001b[0m",
      "\u001b[0;31mFileNotFoundError\u001b[0m                         Traceback (most recent call last)",
      "\u001b[0;32m<ipython-input-10-14dc27a3b3a1>\u001b[0m in \u001b[0;36m<module>\u001b[0;34m()\u001b[0m\n\u001b[1;32m      1\u001b[0m \u001b[0mmodel\u001b[0m \u001b[0;34m=\u001b[0m \u001b[0mRNN_module\u001b[0m\u001b[0;34m(\u001b[0m\u001b[0mn_features\u001b[0m\u001b[0;34m,\u001b[0m \u001b[0minput_size\u001b[0m\u001b[0;34m,\u001b[0m \u001b[0mhidden_size\u001b[0m\u001b[0;34m,\u001b[0m \u001b[0mn_batch\u001b[0m\u001b[0;34m)\u001b[0m\u001b[0;34m\u001b[0m\u001b[0m\n\u001b[0;32m----> 2\u001b[0;31m \u001b[0mmodel\u001b[0m\u001b[0;34m.\u001b[0m\u001b[0mload_state_dict\u001b[0m\u001b[0;34m(\u001b[0m\u001b[0mtorch\u001b[0m\u001b[0;34m.\u001b[0m\u001b[0mload\u001b[0m\u001b[0;34m(\u001b[0m\u001b[0;34m'./saved_models/DRLT_2classes_1000features.pth'\u001b[0m\u001b[0;34m)\u001b[0m\u001b[0;34m)\u001b[0m\u001b[0;34m\u001b[0m\u001b[0m\n\u001b[0m\u001b[1;32m      3\u001b[0m \u001b[0mmodel\u001b[0m\u001b[0;34m.\u001b[0m\u001b[0meval\u001b[0m\u001b[0;34m(\u001b[0m\u001b[0;34m)\u001b[0m\u001b[0;34m\u001b[0m\u001b[0m\n\u001b[1;32m      4\u001b[0m \u001b[0;32mif\u001b[0m \u001b[0muse_gpu\u001b[0m\u001b[0;34m:\u001b[0m\u001b[0;34m\u001b[0m\u001b[0m\n\u001b[1;32m      5\u001b[0m     \u001b[0mmodel\u001b[0m\u001b[0;34m.\u001b[0m\u001b[0mcuda\u001b[0m\u001b[0;34m(\u001b[0m\u001b[0;34m)\u001b[0m\u001b[0;34m\u001b[0m\u001b[0m\n",
      "\u001b[0;32m~/anaconda3/lib/python3.6/site-packages/torch/serialization.py\u001b[0m in \u001b[0;36mload\u001b[0;34m(f, map_location, pickle_module)\u001b[0m\n\u001b[1;32m    257\u001b[0m             \u001b[0;34m(\u001b[0m\u001b[0msys\u001b[0m\u001b[0;34m.\u001b[0m\u001b[0mversion_info\u001b[0m\u001b[0;34m[\u001b[0m\u001b[0;36m0\u001b[0m\u001b[0;34m]\u001b[0m \u001b[0;34m==\u001b[0m \u001b[0;36m3\u001b[0m \u001b[0;32mand\u001b[0m \u001b[0misinstance\u001b[0m\u001b[0;34m(\u001b[0m\u001b[0mf\u001b[0m\u001b[0;34m,\u001b[0m \u001b[0mpathlib\u001b[0m\u001b[0;34m.\u001b[0m\u001b[0mPath\u001b[0m\u001b[0;34m)\u001b[0m\u001b[0;34m)\u001b[0m\u001b[0;34m:\u001b[0m\u001b[0;34m\u001b[0m\u001b[0m\n\u001b[1;32m    258\u001b[0m         \u001b[0mnew_fd\u001b[0m \u001b[0;34m=\u001b[0m \u001b[0;32mTrue\u001b[0m\u001b[0;34m\u001b[0m\u001b[0m\n\u001b[0;32m--> 259\u001b[0;31m         \u001b[0mf\u001b[0m \u001b[0;34m=\u001b[0m \u001b[0mopen\u001b[0m\u001b[0;34m(\u001b[0m\u001b[0mf\u001b[0m\u001b[0;34m,\u001b[0m \u001b[0;34m'rb'\u001b[0m\u001b[0;34m)\u001b[0m\u001b[0;34m\u001b[0m\u001b[0m\n\u001b[0m\u001b[1;32m    260\u001b[0m     \u001b[0;32mtry\u001b[0m\u001b[0;34m:\u001b[0m\u001b[0;34m\u001b[0m\u001b[0m\n\u001b[1;32m    261\u001b[0m         \u001b[0;32mreturn\u001b[0m \u001b[0m_load\u001b[0m\u001b[0;34m(\u001b[0m\u001b[0mf\u001b[0m\u001b[0;34m,\u001b[0m \u001b[0mmap_location\u001b[0m\u001b[0;34m,\u001b[0m \u001b[0mpickle_module\u001b[0m\u001b[0;34m)\u001b[0m\u001b[0;34m\u001b[0m\u001b[0m\n",
      "\u001b[0;31mFileNotFoundError\u001b[0m: [Errno 2] No such file or directory: './saved_models/DRLT_2classes_1000features.pth'"
     ]
    }
   ],
   "source": [
    "model = RNN_module(n_features, input_size, hidden_size, n_batch)\n",
    "model.load_state_dict(torch.load('./saved_models/DRLT_2classes_1000features.pth'))\n",
    "model.eval()\n",
    "if use_gpu:\n",
    "    model.cuda()"
   ]
  },
  {
   "cell_type": "markdown",
   "metadata": {},
   "source": [
    "### get prediction of location"
   ]
  },
  {
   "cell_type": "code",
   "execution_count": null,
   "metadata": {
    "collapsed": true
   },
   "outputs": [],
   "source": [
    "def save_results(image, pred_location, result_folder, class_name, jpgname):\n",
    "    x, y, width, height = int(pred_location[0]), int(pred_location[1]), int(pred_location[2]), int(pred_location[3])\n",
    "    left_up, right_bottom = (x-width, y-height), (x+width, y+height)\n",
    "    cv2.rectangle(image,left_up,right_bottom,(0,255,0),2)\n",
    "    cv2.putText(image,class_name,left_up,cv2.FONT_HERSHEY_SIMPLEX,1,(0,0,255),1,cv2.LINE_AA)\n",
    "    cv2.imwrite(os.path.join(result_folder, jpgname),image)"
   ]
  },
  {
   "cell_type": "code",
   "execution_count": null,
   "metadata": {
    "collapsed": true
   },
   "outputs": [],
   "source": [
    "def make_prediction(model, img_folder, result_folder, loop_begin, CLASSES, class_i):\n",
    "    loop_begin_2 = loop_begin\n",
    "    \n",
    "    test_img = plt.imread(os.path.join(img_folder, '00000001.jpg'))\n",
    "    height,width,_ = test_img.shape\n",
    "    \n",
    "    h_state = Variable(torch.randn(n_layers, n_batch, hidden_size)).cuda()\n",
    "    c_state = Variable(torch.randn(n_layers, n_batch, hidden_size)).cuda()\n",
    "    \n",
    "    before = 5\n",
    "    for loop in range(before):\n",
    "        combo = Variable(combo_all[class_i])\n",
    "        input = combo[loop_begin-before:loop_begin-before + 1]\n",
    "        input = input.cuda()\n",
    "\n",
    "        h_state, c_state = model(input, h_state, c_state)\n",
    "        pred_location = h_state[0,0][-4:].cpu().data.numpy() * np.array([width, height, np.sqrt(width), np.sqrt(height)])\n",
    "        pred_location[2:] = pred_location[2:]**2\n",
    "        #plt.imshow(test_img)\n",
    "        #plt.plot(pred_location[0], pred_location[1], 'ro')\n",
    "        #plt.plot()\n",
    "        #plt.show()\n",
    "        loop_begin += 1\n",
    "    \n",
    "    for loop in range(10):\n",
    "        combo = Variable(combo_all[class_i])\n",
    "        input = combo[loop_begin_2:loop_begin_2 + 1]\n",
    "        input = input.cuda()\n",
    "\n",
    "        h_state, c_state = model(input, h_state, c_state)\n",
    "        pred_location = h_state[0,0][-4:].cpu().data.numpy() * np.array([width, height, np.sqrt(width), np.sqrt(height)])\n",
    "        pred_location[2:] = pred_location[2:]**2\n",
    "        \n",
    "        jpgname = '{0:08}'.format(loop_begin_2) + '.jpg'\n",
    "        print(jpgname)\n",
    "        img = plt.imread(os.path.join(img_folder, jpgname))\n",
    "        class_name = CLASSES[class_i]\n",
    "        save_results(img, pred_location, result_folder, class_name, jpgname)\n",
    "        #plt.imshow(img)\n",
    "        #plt.plot(pred_location[0], pred_location[1], 'ro')\n",
    "        #plt.plot()\n",
    "        #plt.show()\n",
    "        #print(pred_location)\n",
    "        #break\n",
    "        loop_begin_2 += 1\n",
    "    return pred_location"
   ]
  },
  {
   "cell_type": "code",
   "execution_count": null,
   "metadata": {
    "collapsed": true
   },
   "outputs": [],
   "source": [
    "# test class_i = 1, bag\n",
    "class_i = 0\n",
    "img_folder = '../routine_generate_vot2017_train/vot2017/' + CLASSES[class_i]\n",
    "result_folder = './result_imgs/'\n",
    "loop_begin = gt_all[class_i].shape[0] // 3 // time_steps * time_steps + 1"
   ]
  },
  {
   "cell_type": "code",
   "execution_count": null,
   "metadata": {},
   "outputs": [],
   "source": [
    "pred_location = make_prediction(model, img_folder, result_folder, loop_begin, CLASSES, class_i)"
   ]
  },
  {
   "cell_type": "markdown",
   "metadata": {
    "collapsed": true
   },
   "source": [
    "### save model"
   ]
  },
  {
   "cell_type": "code",
   "execution_count": null,
   "metadata": {
    "collapsed": true
   },
   "outputs": [],
   "source": [
    "#torch.save(model.state_dict(),'./saved_models/DRLT_2classes_1000features_2ndreward.pth')"
   ]
  }
 ],
 "metadata": {
  "kernelspec": {
   "display_name": "Python 3",
   "language": "python",
   "name": "python3"
  },
  "language_info": {
   "codemirror_mode": {
    "name": "ipython",
    "version": 3
   },
   "file_extension": ".py",
   "mimetype": "text/x-python",
   "name": "python",
   "nbconvert_exporter": "python",
   "pygments_lexer": "ipython3",
   "version": "3.6.3"
  }
 },
 "nbformat": 4,
 "nbformat_minor": 2
}
